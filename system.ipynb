{
 "cells": [
  {
   "cell_type": "code",
   "execution_count": null,
   "id": "6e275e27",
   "metadata": {},
   "outputs": [],
   "source": [
    "import yfinance as yahooFinance\n",
    "import pandas as pd\n",
    "import datetime\n",
    "import os\n",
    "import re\n",
    "import numpy as np\n",
    "import collections.abc\n",
    "import matplotlib.pyplot as plt\n",
    "from scipy.optimize import minimize\n",
    "import statsmodels.api as sm\n",
    "from joblib import dump, load\n",
    "from sklearn.linear_model import LinearRegression\n",
    "from sklearn.metrics import r2_score\n",
    "from sklearn.ensemble import RandomForestRegressor\n",
    "from tqdm.notebook import tqdm\n",
    "import itertools\n",
    "\n",
    "# Global plot params plt.rcParams to make plots look preaty\n",
    "plt.rc('figure', figsize=(8.5, 5.5))\n",
    "plt.rc('font', size=7)\n",
    "plt.rc('axes', facecolor='#ECECF5')\n",
    "plt.rc('axes', edgecolor='white')\n",
    "plt.rc('axes', grid=True)\n",
    "plt.rc('xtick', bottom=False)\n",
    "plt.rc('ytick', left=False)\n",
    "plt.rc('grid', color='white')\n",
    "plt.rc('lines', linewidth=1)\n",
    "plt.rc('legend', frameon=False)"
   ]
  },
  {
   "cell_type": "code",
   "execution_count": 387,
   "id": "1872d6c3",
   "metadata": {},
   "outputs": [],
   "source": [
    "def log_returns(dataFrame):\n",
    "    data = dataFrame.copy()\n",
    "    data[\"log_returns\"] = np.log(data.Close.div(data.Close.shift(1)))\n",
    "    data[\"creturns\"] = data.log_returns.cumsum().apply(np.exp)\n",
    "    data.log_returns.iat[0] = 0\n",
    "    data.creturns.iat[0] = 1\n",
    "    return data\n",
    "\n",
    "def download_stock_data(tickers, index_ticker):\n",
    "    today_date = datetime.date.today()\n",
    "    startDate = datetime.datetime(today_date.year - TRAIN_YEARS, today_date.month, 1)\n",
    "    endDate = datetime.datetime(today_date.year, today_date.month, 1)\n",
    "\n",
    "    le_tickers = len(tickers)\n",
    "    data_arr = np.empty(le_tickers, dtype=pd.DataFrame)\n",
    "    i = 0\n",
    "    for ticker in tqdm(tickers):\n",
    "        GetInformation = yahooFinance.Ticker(ticker)\n",
    "        df = GetInformation.history(start=startDate, end=endDate, interval='1mo')\n",
    "        df = df.dropna().copy()\n",
    "        df = log_returns(df)\n",
    "        df = df.dropna().copy()\n",
    "        data_arr[i] = df[['log_returns']].copy()\n",
    "        i += 1\n",
    "    \n",
    "    GetInformation = yahooFinance.Ticker(index_ticker)\n",
    "    df_index = GetInformation.history(start=startDate, end=endDate, interval='1mo')\n",
    "    df_index = df_index.dropna().copy()\n",
    "    df_index = log_returns(df_index)\n",
    "    df_index = df_index.dropna().copy()\n",
    "    df_index = df_index[['log_returns']].copy()\n",
    "    \n",
    "    sub_cluster = pd.concat([ data.log_returns for data in data_arr ], axis=1)\n",
    "    sub_cluster.columns = tickers\n",
    "    sub_cluster = sub_cluster.iloc[1:,:].copy()\n",
    "    df_index = df_index.iloc[1:,:].copy()\n",
    "    print(f\"Downloaded {len(sub_cluster.columns)} assets and index {index_ticker}. In timeframe {startDate.year}.{startDate.month} - {endDate.year}.{endDate.month}\")\n",
    "    return sub_cluster, df_index\n",
    "\n",
    "def get_weights_mx(size=15):\n",
    "    w_list = list()\n",
    "    half_size = int(size/2)\n",
    "    \n",
    "    x = np.arange(0, size, 1)\n",
    "    for i in np.arange(-1,1,0.2):\n",
    "        y = i * (x - half_size) + half_size + 1\n",
    "        y = y / np.sum(y)\n",
    "        w_list.append(y)\n",
    "        \n",
    "    y = -1 * (x - half_size) + half_size + 1\n",
    "    y = y / np.sum(y)\n",
    "    for i in np.arange(0, size - 1, 1):\n",
    "        y = np.roll(y, 1)\n",
    "        w_list.append(y)\n",
    "        \n",
    "    y = (x - half_size) + half_size + 1\n",
    "    y = y / np.sum(y)\n",
    "    for i in np.arange(0, size - 1, 1):\n",
    "        y = np.roll(y, 1)\n",
    "        w_list.append(y)\n",
    "        \n",
    "    result = np.array(w_list)\n",
    "    print(f\"Generated weights matrix of shape {result.shape}\")\n",
    "        \n",
    "    return result\n",
    "\n",
    "def historicalBeta(returns, market_returns):\n",
    "    \"\"\"\n",
    "    Read in a pandas dataframe of returns / a pandas series of returns\n",
    "    Output the beta of the stock\n",
    "    \"\"\"\n",
    "    if isinstance(returns, pd.Series):\n",
    "        beta, alpha = np.polyfit(market_returns, returns, 1)\n",
    "        return beta\n",
    "\n",
    "    # A passed user-defined-function will be passed a Series for evaluation.\n",
    "    elif isinstance(returns, pd.DataFrame):\n",
    "        return returns.aggregate(historicalBeta, market_returns=market_returns)\n",
    "\n",
    "    else:\n",
    "        raise TypeError(\"Expected returns to be dataframe or series\")\n",
    "        \n",
    "def historicalVaR(returns, alpha=5):\n",
    "    \"\"\"\n",
    "    Read in a pandas dataframe of returns / a pandas series of returns\n",
    "    Output the percentile of the distribution at the given alpha confidence level\n",
    "    \"\"\"\n",
    "    if isinstance(returns, pd.Series):\n",
    "        return np.percentile(returns, alpha)\n",
    "\n",
    "    # A passed user-defined-function will be passed a Series for evaluation.\n",
    "    elif isinstance(returns, pd.DataFrame):\n",
    "        return returns.aggregate(historicalVaR, alpha=alpha)\n",
    "\n",
    "    else:\n",
    "        raise TypeError(\"Expected returns to be dataframe or series\")\n",
    "\n",
    "def historicalCVaR(returns, alpha=5):\n",
    "    \"\"\"\n",
    "    Read in a pandas dataframe of returns / a pandas series of returns\n",
    "    Output the CVaR for dataframe / series\n",
    "    \"\"\"\n",
    "    if isinstance(returns, pd.Series):\n",
    "        belowVaR = returns <= historicalVaR(returns, alpha=alpha)\n",
    "        return np.abs(returns[belowVaR].mean())\n",
    "\n",
    "    # A passed user-defined-function will be passed a Series for evaluation.\n",
    "    elif isinstance(returns, pd.DataFrame):\n",
    "        return returns.aggregate(historicalCVaR, alpha=alpha)\n",
    "\n",
    "    else:\n",
    "        raise TypeError(\"Expected returns to be dataframe or series\")\n",
    "\n",
    "def compose_data(sub_cluster, sub_cluster_market, weights_matrix, ticker_combinations):\n",
    "    sub_cluster = sub_cluster.copy()\n",
    "    sub_cluster_market = sub_cluster_market.copy()\n",
    "    \n",
    "    composed_data = list()\n",
    "    tickers_res = list()\n",
    "    \n",
    "    weights_range = weights_matrix.shape[1]\n",
    "    weights_size = weights_matrix.shape[0]\n",
    "    \n",
    "    f1_sub_cluster_market = sub_cluster_market.iloc[:,:].copy()\n",
    "    f2_sub_cluster_market = sub_cluster_market.iloc[(TRAIN_YEARS - 2) * YEAR_PERIODS:,:].copy()\n",
    "    f3_sub_cluster_market = sub_cluster_market.iloc[(TRAIN_YEARS - 1) * YEAR_PERIODS:,:].copy()\n",
    "    \n",
    "    x3_arr_mean_market = np.zeros(3)\n",
    "    x3_arr_std_market = np.zeros(3)\n",
    "    x3_arr_sharp_market = np.zeros(3)\n",
    "    x3_arr_var_market = np.zeros(3)\n",
    "    x3_arr_cvar_market = np.zeros(3)\n",
    "    \n",
    "    x3_arr_mean_market = np.array([f1_sub_cluster_market.log_returns.mean(),\n",
    "                          f2_sub_cluster_market.log_returns.mean(),\n",
    "                          f3_sub_cluster_market.log_returns.mean()])\n",
    "    x3_arr_std_market = np.array([f1_sub_cluster_market.log_returns.std(),\n",
    "                          f2_sub_cluster_market.log_returns.std(),\n",
    "                          f3_sub_cluster_market.log_returns.std()])\n",
    "    x3_arr_sharp_market = x3_arr_mean_market / x3_arr_std_market\n",
    "    x3_arr_var_market = np.array([historicalVaR(f1_sub_cluster_market.log_returns),\n",
    "                          historicalVaR(f2_sub_cluster_market.log_returns),\n",
    "                          historicalVaR(f3_sub_cluster_market.log_returns)])\n",
    "    x3_arr_cvar_market = np.array([historicalCVaR(f1_sub_cluster_market.log_returns),\n",
    "                          historicalCVaR(f2_sub_cluster_market.log_returns),\n",
    "                          historicalCVaR(f3_sub_cluster_market.log_returns)])\n",
    "    \n",
    "    for p in tqdm(range(0, len(ticker_combinations))):\n",
    "        column_indecies = ticker_combinations[p]\n",
    "        forp_sub_cluster = sub_cluster.loc[:, column_indecies].copy()\n",
    "        f1_sub_cluster = forp_sub_cluster.iloc[:,:].copy()\n",
    "        f2_sub_cluster = forp_sub_cluster.iloc[(TRAIN_YEARS - 2) * YEAR_PERIODS:,:].copy()\n",
    "        f3_sub_cluster = forp_sub_cluster.iloc[(TRAIN_YEARS - 1) * YEAR_PERIODS:,:].copy()\n",
    "        \n",
    "        # Calculate weight independent features. \n",
    "        # 3x mean (market) 3x std (market) 3x sharp (market) 3x VaR (market) 3x CVaR (market) 3x beta \n",
    "        \n",
    "        x3_arr_mean = np.zeros(weights_range * 3)\n",
    "        x3_arr_std = np.zeros(weights_range * 3)\n",
    "        x3_arr_sharp = np.zeros(weights_range * 3)\n",
    "        x3_arr_var = np.zeros(weights_range * 3)\n",
    "        x3_arr_cvar = np.zeros(weights_range * 3)\n",
    "        x3_arr_beta = np.zeros(weights_range * 3)\n",
    "        \n",
    "        f1_sub_cluster_mean = f1_sub_cluster.mean()\n",
    "        f2_sub_cluster_mean = f2_sub_cluster.mean()\n",
    "        f3_sub_cluster_mean = f3_sub_cluster.mean()\n",
    "        \n",
    "        f1_sub_cluster_std = f1_sub_cluster.std()\n",
    "        f2_sub_cluster_std = f2_sub_cluster.std()\n",
    "        f3_sub_cluster_std = f3_sub_cluster.std()\n",
    "        \n",
    "        f1_sub_cluster_var = historicalVaR(f1_sub_cluster)\n",
    "        f2_sub_cluster_var = historicalVaR(f2_sub_cluster)\n",
    "        f3_sub_cluster_var = historicalVaR(f3_sub_cluster)\n",
    "        \n",
    "        f1_sub_cluster_cvar = historicalCVaR(f1_sub_cluster)\n",
    "        f2_sub_cluster_cvar = historicalCVaR(f2_sub_cluster)\n",
    "        f3_sub_cluster_cvar = historicalCVaR(f3_sub_cluster)\n",
    "        \n",
    "        f1_sub_cluster_beta = historicalBeta(f1_sub_cluster, f1_sub_cluster_market.log_returns)\n",
    "        f2_sub_cluster_beta = historicalBeta(f2_sub_cluster, f2_sub_cluster_market.log_returns)\n",
    "        f3_sub_cluster_beta = historicalBeta(f3_sub_cluster, f3_sub_cluster_market.log_returns)\n",
    "        \n",
    "        wi = 0\n",
    "        for w in range(0, weights_range):\n",
    "            w = w * 3\n",
    "            x3_arr_mean[w] = f1_sub_cluster_mean[wi]\n",
    "            x3_arr_mean[w+1] = f2_sub_cluster_mean[wi]\n",
    "            x3_arr_mean[w+2] = f3_sub_cluster_mean[wi]\n",
    "            x3_arr_std[w] = f1_sub_cluster_std[wi]\n",
    "            x3_arr_std[w+1] = f2_sub_cluster_std[wi]\n",
    "            x3_arr_std[w+2] = f3_sub_cluster_std[wi]\n",
    "            x3_arr_sharp[w] = f1_sub_cluster_mean[wi] / f1_sub_cluster_std[wi]\n",
    "            x3_arr_sharp[w+1] = f2_sub_cluster_mean[wi] / f2_sub_cluster_std[wi]\n",
    "            x3_arr_sharp[w+2] = f3_sub_cluster_mean[wi] / f3_sub_cluster_std[wi]\n",
    "            x3_arr_var[w] = f1_sub_cluster_var[wi]\n",
    "            x3_arr_var[w+1] = f2_sub_cluster_var[wi]\n",
    "            x3_arr_var[w+2] = f3_sub_cluster_var[wi]\n",
    "            x3_arr_cvar[w] = f1_sub_cluster_cvar[wi]\n",
    "            x3_arr_cvar[w+1] = f2_sub_cluster_cvar[wi]\n",
    "            x3_arr_cvar[w+2] = f3_sub_cluster_cvar[wi]\n",
    "            x3_arr_beta[w] = f1_sub_cluster_beta[wi]\n",
    "            x3_arr_beta[w+1] = f2_sub_cluster_beta[wi]\n",
    "            x3_arr_beta[w+2] = f3_sub_cluster_beta[wi]\n",
    "            wi += 1\n",
    "        \n",
    "        independent_features = np.array([*x3_arr_mean,\n",
    "               *x3_arr_mean_market,\n",
    "               *x3_arr_std,\n",
    "               *x3_arr_std_market,\n",
    "               *x3_arr_sharp,\n",
    "               *x3_arr_sharp_market,\n",
    "               *x3_arr_var,\n",
    "               *x3_arr_var_market,\n",
    "               *x3_arr_cvar,\n",
    "               *x3_arr_cvar_market,\n",
    "               *x3_arr_beta])\n",
    "            \n",
    "        # Calculate weight dependent features. \n",
    "        # 3x portfolio_mean portfolio_std portfolio_sharp\n",
    "        # next year portfolio_sharp\n",
    "        for s in range(0, weights_size):\n",
    "            weights = weights_matrix[s].copy()\n",
    "            s1_mean = np.sum(f1_sub_cluster_mean * weights)\n",
    "            s1_std = np.sqrt(np.dot(weights.T, np.dot(f1_sub_cluster.cov(), weights)))\n",
    "            s1_sharp = s1_mean/s1_std\n",
    "            \n",
    "            s2_mean = np.sum(f2_sub_cluster_mean * weights)\n",
    "            s2_std = np.sqrt(np.dot(weights.T, np.dot(f2_sub_cluster.cov(), weights)))\n",
    "            s2_sharp = s2_mean/s2_std\n",
    "            \n",
    "            s3_mean = np.sum(f3_sub_cluster_mean * weights)\n",
    "            s3_std = np.sqrt(np.dot(weights.T, np.dot(f3_sub_cluster.cov(), weights)))\n",
    "            s3_sharp = s3_mean/s3_std\n",
    "            \n",
    "            row = np.array([*weights, \n",
    "                            *independent_features, \n",
    "                            s1_mean, \n",
    "                            s1_std, \n",
    "                            s1_sharp, \n",
    "                            s2_mean,\n",
    "                            s2_sharp,\n",
    "                            s3_mean,\n",
    "                            s3_std,\n",
    "                            s3_sharp])\n",
    "            composed_data.append(row)\n",
    "            tickers_res.append(ticker_combinations[p])\n",
    "            \n",
    "    return np.array(composed_data), np.array(tickers_res)\n",
    "\n",
    "def get_graph(ticks, weights, title):\n",
    "    fig, ax = plt.subplots(figsize=(11,2))\n",
    "    sorted_i = np.argsort(weights)[::-1]\n",
    "    weights = weights[sorted_i]\n",
    "    ticks = ticks[sorted_i]\n",
    "    ax.bar(np.arange(len(weights)), weights*100, color='pink')\n",
    "    ax.set_title(title, fontdict={'fontsize': 15})\n",
    "    ax.set_xticks(np.arange(len(ticks)), labels=ticks, fontsize = 8)\n",
    "    ax.grid(visible=False, axis='both')\n",
    "    ax.set_ylabel('Weights %', fontsize=10)\n",
    "    for x in range(0, len(weights)):\n",
    "        text = ax.text(x, 1, f\"{weights[x]*100:.1f}%\", ha='center', va='center', color='midnightblue', fontsize=9)\n",
    "    plt.show()\n",
    "        \n",
    "def plt_fnd(row, ticks, portfolio_f_sharp):\n",
    "    arr_means = [\n",
    "        row[15]* 12,\n",
    "        row[18]* 12,\n",
    "        row[21]* 12,\n",
    "        row[24]* 12,\n",
    "        row[27]* 12,\n",
    "        row[30]* 12,\n",
    "        row[33]* 12,\n",
    "        row[36]* 12,\n",
    "        row[39]* 12,\n",
    "        row[42]* 12,\n",
    "        row[45]* 12,\n",
    "        row[48]* 12,\n",
    "        row[51]* 12,\n",
    "        row[54]* 12,\n",
    "        row[57]* 12\n",
    "    ] \n",
    "    arr_std = [\n",
    "        row[62]* 12,\n",
    "        row[65]* 12,\n",
    "        row[68]* 12,\n",
    "        row[71]* 12,\n",
    "        row[74]* 12,\n",
    "        row[77]* 12,\n",
    "        row[80]* 12,\n",
    "        row[83]* 12,\n",
    "        row[86]* 12,\n",
    "        row[89]* 12,\n",
    "        row[92]* 12,\n",
    "        row[95]* 12,\n",
    "        row[98]* 12,\n",
    "        row[101]* 12,\n",
    "        row[104]* 12\n",
    "    ] \n",
    "    portfolio_mean = row[-8] * 12\n",
    "    portfolio_std = row[-7] * 12\n",
    "    portfolio_sharp = row[-6] * 12\n",
    "    cvar = np.dot(historicalCVaR(sub_cluster[ticks]), row[:PORTFOLIO_SIZE])\n",
    "    beta = np.dot(historicalBeta(sub_cluster[ticks], data_index.log_returns), row[:PORTFOLIO_SIZE])\n",
    "    \n",
    "    fig, axs = plt.subplots(1, 2, figsize=(8,4))\n",
    "    axs[0].set_xlabel('Risk (std)', fontsize = 10)\n",
    "    axs[0].set_ylabel('Mean Return', fontsize = 10)\n",
    "    axs[0].set_title(f\"Historical Mean-Variance Analysis\")\n",
    "    for i in range(0, len(arr_means)):\n",
    "        axs[0].text(arr_std[i], arr_means[i]-0.01, ticks[i], ha='center', va='top', size=8)\n",
    "        axs[0].plot(arr_std[i], arr_means[i], 'o-', color='royalblue')\n",
    "        \n",
    "    today_date = datetime.date.today()\n",
    "    startDate = datetime.datetime(today_date.year - TRAIN_YEARS, today_date.month, 1)\n",
    "    endDate = datetime.datetime(today_date.year, today_date.month, 1)\n",
    "    \n",
    "    axs[1].axis('off')\n",
    "    axs[1].text(0.1, 1, f\"Historical portfolio values {startDate.year}.{startDate.month} - {endDate.year}.{endDate.month}\", ha='left', va='center', size=15, wrap=True, fontfamily='Arial', fontweight='medium', color='dimgray')\n",
    "    axs[1].text(0.2, 0.9, f\"Mean returns: {portfolio_mean:.4f}\", ha='left', va='center', size=13, wrap=True, fontfamily='Arial')\n",
    "    axs[1].text(0.2, 0.8, f\"(std) risk: {portfolio_std:.4f}\", ha='left', va='center', size=13, wrap=True, fontfamily='Arial')\n",
    "    axs[1].text(0.2, 0.7, f\"Sharp ratio: {portfolio_sharp:.4f}\", ha='left', va='center', size=13, wrap=True, fontfamily='Arial')\n",
    "    axs[1].text(0.2, 0.6, f\"CVaR: {cvar:.4f}\", ha='left', va='center', size=13, wrap=True, fontfamily='Arial')\n",
    "    axs[1].text(0.2, 0.5, f\"Beta: {beta:.4f}\", ha='left', va='center', size=13, wrap=True, fontfamily='Arial')\n",
    "    \n",
    "    axs[1].text(0.1, 0.4, f\"Predicted\", ha='left', va='center', size=15, wrap=True, fontfamily='Arial', fontweight='medium', color='dimgray')\n",
    "    axs[1].text(0.2, 0.3, f\"Sharp ratio: {portfolio_f_sharp*12:.4f}\", ha='left', va='center', size=13, wrap=True, fontfamily='Arial')\n",
    "\n",
    "    plt.show()\n",
    "    \n",
    "def normalize(predictors):\n",
    "    ret = predictors - np.mean(predictors)\n",
    "    return ret"
   ]
  },
  {
   "cell_type": "code",
   "execution_count": 336,
   "id": "51402ffe",
   "metadata": {
    "scrolled": false
   },
   "outputs": [
    {
     "name": "stdout",
     "output_type": "stream",
     "text": [
      "All possible asset combinations 816\n",
      "Generated weights matrix of shape (38, 15)\n"
     ]
    },
    {
     "data": {
      "application/vnd.jupyter.widget-view+json": {
       "model_id": "154696f1de8c4626948e365b2dc37263",
       "version_major": 2,
       "version_minor": 0
      },
      "text/plain": [
       "  0%|          | 0/18 [00:00<?, ?it/s]"
      ]
     },
     "metadata": {},
     "output_type": "display_data"
    },
    {
     "name": "stdout",
     "output_type": "stream",
     "text": [
      "Downloaded 18 assets and index ^GSPC. In timeframe 2020.11 - 2023.11\n"
     ]
    }
   ],
   "source": [
    "PORTFOLIO_SIZE = 15\n",
    "YEAR_PERIODS = 12\n",
    "TRAIN_YEARS = 3\n",
    "tickers = ['GOOG', 'META', 'NFLX', 'BJ', 'AMZN', 'EBAY', 'BKR', 'AXP', 'ABT', 'CAT', 'IFF',\n",
    "           'AMT', 'AAPL', 'AMD', 'IBM', 'MSFT', 'NVDA', 'AES', ]\n",
    "\n",
    "\n",
    "ticker_combinations = np.array(list(itertools.combinations(tickers, PORTFOLIO_SIZE)))\n",
    "print(f\"All possible asset combinations {len(ticker_combinations)}\")\n",
    "\n",
    "weights_mx = get_weights_mx(PORTFOLIO_SIZE)\n",
    "\n",
    "sub_cluster, data_index = download_stock_data(tickers, index_ticker='^GSPC')"
   ]
  },
  {
   "cell_type": "code",
   "execution_count": 67,
   "id": "ff90f212",
   "metadata": {},
   "outputs": [
    {
     "data": {
      "application/vnd.jupyter.widget-view+json": {
       "model_id": "ff24e4b327b849bcb2c60fd0851ae9be",
       "version_major": 2,
       "version_minor": 0
      },
      "text/plain": [
       "  0%|          | 0/816 [00:00<?, ?it/s]"
      ]
     },
     "metadata": {},
     "output_type": "display_data"
    }
   ],
   "source": [
    "composed_data, tickers_res = compose_data(sub_cluster, data_index, weights_mx, ticker_combinations)"
   ]
  },
  {
   "cell_type": "code",
   "execution_count": 371,
   "id": "16a9499a",
   "metadata": {},
   "outputs": [],
   "source": [
    "def get_top3(prediction, tickers_res):\n",
    "    res = np.zeros(3)\n",
    "    \n",
    "    sorted_index = np.argsort(prediction)[::-1]\n",
    "    sorted_tickers = tickers_res[sorted_index]\n",
    "    res[0] = sorted_index[0]\n",
    "    i = res[0]\n",
    "    for si in sorted_index:\n",
    "        if np.sum(sorted_tickers[si] == sorted_tickers[int(res[0])]) != len(sorted_tickers[0]):\n",
    "            i = si\n",
    "            break\n",
    "    \n",
    "    res[1] = i\n",
    "    \n",
    "    for si in sorted_index:\n",
    "        if np.sum(sorted_tickers[si] == sorted_tickers[int(res[0])]) != len(sorted_tickers[0]):\n",
    "            if np.sum(sorted_tickers[si] == sorted_tickers[int(res[1])]) != len(sorted_tickers[0]):\n",
    "                i = si\n",
    "                break\n",
    "    \n",
    "    res[2] = i     \n",
    "    \n",
    "    return res"
   ]
  },
  {
   "cell_type": "code",
   "execution_count": 75,
   "id": "60e605c5",
   "metadata": {},
   "outputs": [],
   "source": [
    "lm = load('models/lm.model')\n",
    "prediction = normalize(lm.predict(composed_data))\n",
    "top3index = get_top3(prediction, tickers_res)"
   ]
  },
  {
   "cell_type": "code",
   "execution_count": 372,
   "id": "a31a582d",
   "metadata": {},
   "outputs": [],
   "source": [
    "top3index = get_top3(prediction, tickers_res)"
   ]
  },
  {
   "cell_type": "code",
   "execution_count": 382,
   "id": "6cdaaba8",
   "metadata": {},
   "outputs": [
    {
     "data": {
      "text/plain": [
       "array([6095., 6104., 6116.])"
      ]
     },
     "execution_count": 382,
     "metadata": {},
     "output_type": "execute_result"
    }
   ],
   "source": [
    "top3index"
   ]
  },
  {
   "cell_type": "code",
   "execution_count": 388,
   "id": "b9e3ed90",
   "metadata": {
    "scrolled": false
   },
   "outputs": [
    {
     "data": {
      "image/png": "[encoded data removed]",
      "text/plain": [
       "<Figure size 1100x200 with 1 Axes>"
      ]
     },
     "metadata": {},
     "output_type": "display_data"
    },
    {
     "data": {
      "image/png": "[encoded data removed]",
      "text/plain": [
       "<Figure size 800x400 with 2 Axes>"
      ]
     },
     "metadata": {},
     "output_type": "display_data"
    }
   ],
   "source": [
    "get_graph(tickers_res[int(top3index[0])], composed_data[int(top3index[0]), :PORTFOLIO_SIZE], '#Model Suggestion')\n",
    "plt_fnd(composed_data[int(top3index[0])], tickers_res[int(top3index[0])], prediction[int(top3index[0])])\n"
   ]
  },
  {
   "cell_type": "code",
   "execution_count": null,
   "id": "a4e024c4",
   "metadata": {},
   "outputs": [],
   "source": []
  },
  {
   "cell_type": "code",
   "execution_count": null,
   "id": "89c47b67",
   "metadata": {},
   "outputs": [],
   "source": []
  },
  {
   "cell_type": "code",
   "execution_count": null,
   "id": "b83c8ae2",
   "metadata": {},
   "outputs": [],
   "source": []
  },
  {
   "cell_type": "code",
   "execution_count": null,
   "id": "e63e4938",
   "metadata": {},
   "outputs": [],
   "source": []
  },
  {
   "cell_type": "code",
   "execution_count": 150,
   "id": "84289e97",
   "metadata": {},
   "outputs": [
    {
     "name": "stdout",
     "output_type": "stream",
     "text": [
      "#1 ['GOOG' 'META' 'NFLX' 'BJ' 'AMZN' 'EBAY' 'BKR' 'CAT' 'IFF' 'AMT' 'AAPL'\n",
      " 'IBM' 'MSFT' 'NVDA' 'AES']\n",
      "With weigth [ 5.          4.16666667  3.33333333  2.5         1.66666667  0.83333333\n",
      " 12.5        11.66666667 10.83333333 10.          9.16666667  8.33333333\n",
      "  7.5         6.66666667  5.83333333]\n",
      "Historical mean -0.02174292534921433\n",
      "Historical std 0.007120979606109518\n",
      "Historical sharp 0.05154792803143819\n",
      "Expected sharp 0.6557818878173828\n"
     ]
    }
   ],
   "source": [
    "si1 = sorted_iterator[-1]\n",
    "si2 = sorted_iterator[-2]\n",
    "si3 = sorted_iterator[-3]\n",
    "\n",
    "print(f\"#1 {tickers_res[si1]}\")\n",
    "print(f\"With weigth {composed_data[si1, :PORTFOLIO_SIZE]*100}\")\n",
    "print(f\"Historical mean {composed_data[si1, -4]}\")\n",
    "print(f\"Historical std {composed_data[si1, -3]}\")\n",
    "print(f\"Historical sharp {composed_data[si1, -2]}\")\n",
    "print(f\"Expected sharp {new[si1]}\")\n"
   ]
  },
  {
   "cell_type": "code",
   "execution_count": 151,
   "id": "afabb284",
   "metadata": {},
   "outputs": [
    {
     "name": "stdout",
     "output_type": "stream",
     "text": [
      "#2 ['GOOG' 'META' 'NFLX' 'BJ' 'AMZN' 'EBAY' 'BKR' 'CAT' 'IFF' 'AMT' 'AAPL'\n",
      " 'IBM' 'MSFT' 'NVDA' 'AES']\n",
      "With weigth [12.5         0.83333333  1.66666667  2.5         3.33333333  4.16666667\n",
      "  5.          5.83333333  6.66666667  7.5         8.33333333  9.16666667\n",
      " 10.         10.83333333 11.66666667]\n",
      "Historical mean -0.04505596253490726\n",
      "Historical std 0.006638516564261928\n",
      "Historical sharp 0.0544048014661462\n",
      "Expected sharp 0.6531363952636718\n"
     ]
    }
   ],
   "source": [
    "print(f\"#2 {tickers_res[si2]}\")\n",
    "print(f\"With weigth {composed_data[si2, :PORTFOLIO_SIZE]*100}\")\n",
    "print(f\"Historical mean {composed_data[si2, -4]}\")\n",
    "print(f\"Historical std {composed_data[si2, -3]}\")\n",
    "print(f\"Historical sharp {composed_data[si2, -2]}\")\n",
    "print(f\"Expected sharp {new[si2]}\")"
   ]
  },
  {
   "cell_type": "code",
   "execution_count": 152,
   "id": "35eb8a40",
   "metadata": {},
   "outputs": [
    {
     "name": "stdout",
     "output_type": "stream",
     "text": [
      "#3 ['GOOG' 'META' 'NFLX' 'BJ' 'AMZN' 'EBAY' 'BKR' 'CAT' 'IFF' 'AMT' 'AAPL'\n",
      " 'IBM' 'MSFT' 'NVDA' 'AES']\n",
      "With weigth [ 2.5         3.33333333  4.16666667  5.          5.83333333  6.66666667\n",
      "  7.5         8.33333333  9.16666667 10.         10.83333333 11.66666667\n",
      " 12.5         0.83333333  1.66666667]\n",
      "Historical mean -0.05145364794247551\n",
      "Historical std 0.005661694313098743\n",
      "Historical sharp 0.04922234491609556\n",
      "Expected sharp 0.6526805389404297\n"
     ]
    }
   ],
   "source": [
    "print(f\"#3 {tickers_res[si3]}\")\n",
    "print(f\"With weigth {composed_data[si3, :PORTFOLIO_SIZE]*100}\")\n",
    "print(f\"Historical mean {composed_data[si3, -4]}\")\n",
    "print(f\"Historical std {composed_data[si3, -3]}\")\n",
    "print(f\"Historical sharp {composed_data[si3, -2]}\")\n",
    "print(f\"Expected sharp {new[si3]}\")"
   ]
  },
  {
   "cell_type": "code",
   "execution_count": 133,
   "id": "1a3b15aa",
   "metadata": {},
   "outputs": [
    {
     "data": {
      "image/png": "[encoded data removed]",
      "text/plain": [
       "<Figure size 850x550 with 1 Axes>"
      ]
     },
     "metadata": {},
     "output_type": "display_data"
    }
   ],
   "source": [
    "plt.hist(new, bins=50)\n",
    "plt.show()"
   ]
  },
  {
   "cell_type": "code",
   "execution_count": null,
   "id": "cefaa37a",
   "metadata": {},
   "outputs": [],
   "source": []
  },
  {
   "cell_type": "code",
   "execution_count": null,
   "id": "f3fb9060",
   "metadata": {},
   "outputs": [],
   "source": []
  },
  {
   "cell_type": "code",
   "execution_count": null,
   "id": "606d7030",
   "metadata": {},
   "outputs": [],
   "source": []
  },
  {
   "cell_type": "code",
   "execution_count": null,
   "id": "3b099562",
   "metadata": {},
   "outputs": [],
   "source": []
  },
  {
   "cell_type": "code",
   "execution_count": null,
   "id": "66b1a281",
   "metadata": {},
   "outputs": [],
   "source": []
  },
  {
   "cell_type": "code",
   "execution_count": null,
   "id": "d8619c15",
   "metadata": {},
   "outputs": [],
   "source": []
  },
  {
   "cell_type": "code",
   "execution_count": null,
   "id": "96a35f2b",
   "metadata": {},
   "outputs": [],
   "source": []
  },
  {
   "cell_type": "code",
   "execution_count": null,
   "id": "d274aa79",
   "metadata": {},
   "outputs": [],
   "source": []
  },
  {
   "cell_type": "code",
   "execution_count": null,
   "id": "15860e0f",
   "metadata": {},
   "outputs": [],
   "source": []
  },
  {
   "cell_type": "code",
   "execution_count": null,
   "id": "28b39d85",
   "metadata": {},
   "outputs": [],
   "source": []
  },
  {
   "cell_type": "code",
   "execution_count": null,
   "id": "080e5b14",
   "metadata": {},
   "outputs": [],
   "source": []
  },
  {
   "cell_type": "code",
   "execution_count": null,
   "id": "4c3fdc1d",
   "metadata": {},
   "outputs": [],
   "source": []
  },
  {
   "cell_type": "code",
   "execution_count": null,
   "id": "d62e3e40",
   "metadata": {},
   "outputs": [],
   "source": []
  },
  {
   "cell_type": "code",
   "execution_count": null,
   "id": "0d68df85",
   "metadata": {},
   "outputs": [],
   "source": []
  },
  {
   "cell_type": "code",
   "execution_count": null,
   "id": "72bb491a",
   "metadata": {},
   "outputs": [],
   "source": []
  },
  {
   "cell_type": "code",
   "execution_count": null,
   "id": "36263cb1",
   "metadata": {},
   "outputs": [],
   "source": []
  },
  {
   "cell_type": "code",
   "execution_count": null,
   "id": "ec19fdeb",
   "metadata": {},
   "outputs": [],
   "source": []
  },
  {
   "cell_type": "code",
   "execution_count": null,
   "id": "2cc89321",
   "metadata": {},
   "outputs": [],
   "source": []
  },
  {
   "cell_type": "code",
   "execution_count": null,
   "id": "0bae8bee",
   "metadata": {},
   "outputs": [],
   "source": []
  },
  {
   "cell_type": "code",
   "execution_count": null,
   "id": "f1ebdb10",
   "metadata": {},
   "outputs": [],
   "source": []
  },
  {
   "cell_type": "code",
   "execution_count": null,
   "id": "37e2683a",
   "metadata": {},
   "outputs": [],
   "source": []
  },
  {
   "cell_type": "code",
   "execution_count": null,
   "id": "284dfc33",
   "metadata": {},
   "outputs": [],
   "source": []
  },
  {
   "cell_type": "code",
   "execution_count": null,
   "id": "5ee7d070",
   "metadata": {},
   "outputs": [],
   "source": []
  },
  {
   "cell_type": "code",
   "execution_count": null,
   "id": "46cc47ac",
   "metadata": {},
   "outputs": [],
   "source": []
  },
  {
   "cell_type": "code",
   "execution_count": null,
   "id": "caf89079",
   "metadata": {},
   "outputs": [],
   "source": []
  },
  {
   "cell_type": "code",
   "execution_count": null,
   "id": "6d03d0d9",
   "metadata": {},
   "outputs": [],
   "source": []
  },
  {
   "cell_type": "code",
   "execution_count": null,
   "id": "d886162c",
   "metadata": {},
   "outputs": [],
   "source": []
  },
  {
   "cell_type": "code",
   "execution_count": null,
   "id": "cc8394a3",
   "metadata": {},
   "outputs": [],
   "source": []
  },
  {
   "cell_type": "code",
   "execution_count": null,
   "id": "e1fad21e",
   "metadata": {},
   "outputs": [],
   "source": []
  },
  {
   "cell_type": "code",
   "execution_count": null,
   "id": "29b93282",
   "metadata": {},
   "outputs": [],
   "source": []
  },
  {
   "cell_type": "code",
   "execution_count": null,
   "id": "e0d643b8",
   "metadata": {},
   "outputs": [],
   "source": []
  }
 ],
 "metadata": {
  "kernelspec": {
   "display_name": "Python 3 (ipykernel)",
   "language": "python",
   "name": "python3"
  },
  "language_info": {
   "codemirror_mode": {
    "name": "ipython",
    "version": 3
   },
   "file_extension": ".py",
   "mimetype": "text/x-python",
   "name": "python",
   "nbconvert_exporter": "python",
   "pygments_lexer": "ipython3",
   "version": "3.9.16"
  }
 },
 "nbformat": 4,
 "nbformat_minor": 5
}
